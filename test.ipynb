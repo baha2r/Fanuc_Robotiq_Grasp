{
 "cells": [
  {
   "cell_type": "code",
   "execution_count": 9,
   "metadata": {},
   "outputs": [
    {
     "name": "stdout",
     "output_type": "stream",
     "text": [
      "-0.09461137922988634\n"
     ]
    }
   ],
   "source": [
    "import pybullet as p\n",
    "import random\n",
    "import numpy as np\n",
    "\n",
    "p.connect(p.DIRECT)\n",
    "\n",
    "# Load the URDF object\n",
    "urdf_file = \"urdf/block.urdf\"\n",
    "obj_id = p.loadURDF(urdf_file)\n",
    "\n",
    "# Get the bounding box of the object\n",
    "aabb_min, aabb_max = p.getAABB(obj_id)\n",
    "\n",
    "# Get the object's position and orientation\n",
    "pos, orn = p.getBasePositionAndOrientation(obj_id)\n",
    "\n",
    "# Generate 100 random points within the bounding box\n",
    "points = []\n",
    "for i in range(100):\n",
    "    x = random.uniform(aabb_min[0], aabb_max[0])\n",
    "    y = random.uniform(aabb_min[1], aabb_max[1])\n",
    "    z = random.uniform(aabb_min[2], aabb_max[2])\n",
    "    point = (x, y, z)\n",
    "    points.append(point)\n",
    "\n",
    "# Rotate the points to be aligned with the object's orientation\n",
    "rotated_points = []\n",
    "for point in points:\n",
    "    point = np.array(point)\n",
    "    rotation_matrix = np.array(p.getMatrixFromQuaternion(orn)).reshape(3, 3)\n",
    "    rotated_point = rotation_matrix.dot(point) + np.array(pos)\n",
    "    rotated_point = tuple(rotated_point)\n",
    "    rotated_points.append(rotated_point)\n",
    "\n",
    "# Check if each random point lies inside the object\n",
    "valid_points = []\n",
    "fixed_point = (0, 0, aabb_max[2] + 1)  # Point outside the object\n",
    "for i, point in enumerate(rotated_points):\n",
    "    result = p.rayTestBatch([point], [fixed_point])[0][0]\n",
    "    if result == -1:\n",
    "        valid_points.append(points[i])\n",
    "        if len(valid_points) == 100:\n",
    "            break\n",
    "\n",
    "# Use the 100 valid points for your simulation\n",
    "print(min(valid_points)[:][1])\n"
   ]
  }
 ],
 "metadata": {
  "kernelspec": {
   "display_name": "gym-env",
   "language": "python",
   "name": "python3"
  },
  "language_info": {
   "codemirror_mode": {
    "name": "ipython",
    "version": 3
   },
   "file_extension": ".py",
   "mimetype": "text/x-python",
   "name": "python",
   "nbconvert_exporter": "python",
   "pygments_lexer": "ipython3",
   "version": "3.10.9"
  },
  "orig_nbformat": 4
 },
 "nbformat": 4,
 "nbformat_minor": 2
}
